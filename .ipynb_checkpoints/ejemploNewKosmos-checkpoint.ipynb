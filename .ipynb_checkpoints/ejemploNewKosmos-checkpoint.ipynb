{
 "cells": [
  {
   "cell_type": "markdown",
   "id": "b584249e-e1fb-46a0-a257-0e9c62d9c67e",
   "metadata": {},
   "source": [
    "# ETABS based model converted to OpenSeesPy\n",
    "## Linear time history analysis\n",
    "* Rigid diaphragm assumptions"
   ]
  },
  {
   "cell_type": "code",
   "execution_count": null,
   "id": "c460257d-dda0-4bd8-8ac8-1cf025df4b9a",
   "metadata": {},
   "outputs": [],
   "source": [
    "import importlib.util, sys, pathlib\n",
    "from openseespy.opensees import *\n",
    "import json, pathlib\n",
    "import signals as sig\n",
    "import matplotlib.pyplot as plt\n",
    "from math import sqrt, pi"
   ]
  },
  {
   "cell_type": "code",
   "execution_count": null,
   "id": "051e801d-24a6-400e-80fb-e9b9695de911",
   "metadata": {},
   "outputs": [],
   "source": [
    "import kosmosInelastic"
   ]
  },
  {
   "cell_type": "markdown",
   "id": "9e019910-1235-45b7-9231-2f1cc628ca44",
   "metadata": {},
   "source": [
    "# Here is where the party begins"
   ]
  },
  {
   "cell_type": "code",
   "execution_count": null,
   "id": "2059752f-6bbc-4575-a155-a4d4d2c204ff",
   "metadata": {},
   "outputs": [],
   "source": [
    "g   = 9.8\n",
    "loadConst('-time', 0.0)                        # Set the gravity loads to be constant & reset the time in the domain\n",
    "\n",
    "dt , npts = sig.morsa_to_opensees(\"GEN_acc_RotD100RotDarfie2010Wakc_Y.txt\", \n",
    "                  \"DarfieldY.dat\", \n",
    "                  scale_factor=g, \n",
    "                  plot=True)\n",
    "dt , npts = sig.morsa_to_opensees(\"GEN_acc_RotD100RotDarfie2010Wakc_X.txt\", \n",
    "                  \"DarfieldX.dat\", \n",
    "                  scale_factor=g, \n",
    "                  plot=False)\n",
    "\n",
    "print(dt, npts)\n",
    "\n",
    "\n",
    "timeSeries('Path', 2,  '-filePath', 'DarfieldX.dat', '-dt', 0.02, '-factor', 2.0)  # Set time series to be passed to uniform excitation\n",
    "timeSeries('Path', 3,  '-filePath', 'DarfieldY.dat', '-dt', 0.02, '-factor', 2.0)\n",
    "#                            tag , dir ,....,tseriesTag \n",
    "pattern('UniformExcitation',  2  , 1, '-accel', 2)                      # Create UniformExcitation load pattern along UX\n",
    "pattern('UniformExcitation',  3  , 2, '-accel', 3)                      # Create UniformExcitation load pattern along UY\n",
    "rayleigh(0.1416, 0.0, 0.0, 0.00281)"
   ]
  },
  {
   "cell_type": "code",
   "execution_count": null,
   "id": "ce00d877-d028-4fa6-98b5-b5034477415f",
   "metadata": {},
   "outputs": [],
   "source": [
    "beam_elements = [2792461, 3816339, 3893495, 5847361, 6732477, 8645140, 8717542, 12326623, 12455046, 12864910, 14071503, 14896761, 16622618, 17259841, 17684993, 17715188, 18077580, 20803389, 21307685, 22730251, 22731195, 23484680, 29478978, 30783512, 31551512, 32119972, 32366933, 33124619, 33145473, 34229938, 35084613, 37600281, 37733538, 38790314, 38869492, 41306633, 44378182, 44747720, 49641621, 52371648, 53906564, 53915636, 54491394, 55737517, 59083132, 59472552, 59537339, 59820827, 60664241, 62502446, 62526773, 62777662, 63286636, 63430405, 64630525, 65127832, 65658343, 66413910, 67105206, 71104066, 71597869, 71804764, 71869770, 73743320, 74218244, 78506852, 78690085, 78815816, 79115551, 79808143, 80798989, 81044072, 82372216, 84027396, 84715860, 84718216, 87700355, 88267514, 89977026, 90771785, 91331535, 93053761, 93826759, 95169407, 96160756, 96862114, 97299944, 101777108, 103585483, 103834544, 104182595, 106858398, 107295542, 107655598, 109255455, 110247694, 111737594, 112792500, 114880449, 115506697, 118829795, 119012033, 119229913, 119970332, 121149339, 121191257, 121257471, 122092003, 122803296, 125218473, 125416120, 127655002, 131320646, 131596135, 131606075, 132180431, 133930625, 134740021, 135341669, 135965739, 138003009, 138772022, 140260377, 140614630, 142275294, 142770134, 143693545, 144812818, 145439755, 145852639, 146289104, 146304834, 147335421, 148761360, 148943691, 149876741, 150652683, 151313852, 151517261, 153189323, 153227169, 153752347, 155784998, 156248671, 159106474, 161087099, 162446280, 163397063, 164071236, 164371171, 164469783, 165194618, 165240993, 165619977, 166230779, 167421116, 169344126, 169833866, 170193127, 170656547, 170891487, 174184222, 174367508, 174735036, 175045873, 175638497, 178074487, 178127611, 178569815, 182233889, 182330298, 182454561, 182633972, 182894031, 184839202, 185838862, 186668397, 187975389, 191507114, 191527342, 192089978, 192462000, 192849060, 193036064, 193076567, 193580104, 194647071, 194991455, 195202119, 195202608, 195696585, 195974003, 196123670, 197855601, 199529243, 200559666, 203022006, 203234943, 203871990, 211758463, 212538229, 214156558, 214958635, 216006581, 217479633, 221120027, 221371060, 225443541, 226987765, 227487962, 227760046, 227874871, 229088086, 229577771, 231971768, 232129669, 233488053, 233755958, 234439953, 234548425, 236029158, 237368832, 238044582, 239208968, 239925483, 240268400, 241454917, 241761595, 243230710, 245850141, 247397541, 251532930, 253298606, 255410344, 256821820, 256988542, 262735159, 264304174, 267241656, 267880749, 268511092, 271086372, 272709152, 273411211, 273524744, 274871200, 276718692, 277720969, 278368465, 278979217, 285459232, 286722697, 286794825, 287650326, 288864664, 289529450, 290261426, 293203131, 296533505, 296810286, 297165291, 297636437, 297868330, 298770446, 299015988, 299553800, 300373457, 302365004, 302944279, 305307060, 305751343, 306465243, 307178481, 308329586, 314824390, 317997802, 318864824, 319459463, 320580519, 326038424, 327888535, 328061633, 329160194, 330696776, 331367642, 331370879, 332136355, 332178855, 332929332, 333836108, 334305829, 335547756, 336412804, 336503718, 336668062, 337470314, 337478019, 337787303, 338456281, 338796071, 339997880, 340849196, 343014565, 343446170, 344408657, 345318053, 346844228, 346875802, 348458848, 349777573, 351026339, 352250042, 352879659, 353933136, 354762088, 357854725, 358965465, 359586259, 364715469, 365343319, 365445052, 367605569, 369696927, 370256448, 370587139, 372458504, 372905240, 373203089, 373570629, 375372721, 380149291, 382918552, 383811239, 385289010, 385317163, 385904243, 386266212, 386670466, 387769663, 388927203, 390056351, 391992208, 393828903, 395835994, 396407841, 396805893, 397134345, 398386091, 400763124, 401048104, 402020109, 402062411, 402437828, 408595472, 409886994, 411033992, 412858638, 413115786, 414905499, 415281262, 416301382, 418351333, 418715574, 419838382, 421458646, 421854941, 422253438, 426988112, 427163456, 428241193, 429993817, 430598960, 430939767, 432285245, 432429210, 433343500, 440349936, 441457929, 442794502, 443541774, 444327618, 446886276, 446986198, 448793046, 449965050, 450523643, 450992752, 455733550, 457229654, 457739066, 458108135, 460677036, 462620868, 463250535, 464236887, 465202154, 466153995, 467169400, 467313648, 467638161, 470472740, 471690670, 472045021, 475013201, 475307680, 476932310, 476982892, 477999167, 479233119, 480064439, 480427285, 480779553, 481653907, 481792334, 484222053, 485002927, 485217435, 486618518, 486645644, 488718028, 490822427, 492363639, 493454923, 495129832, 496041200, 498345135, 498663099, 498768478, 502238298, 503421414, 503855373, 504002952, 507834025, 508472122, 509978877, 510765591, 511403247, 514394828, 515312346, 517674459, 518109597, 518339299, 518392940, 518746331, 518862056, 518980506, 519158980, 520688063, 522591837, 523149041, 524816765, 525101090, 526017857, 526807242, 527472760, 527798918, 528433017, 528567472, 529183751, 529204957, 530022232, 533643713, 538631140, 539668026, 543858847, 543942438, 544092520, 545067915, 545369013, 545914412, 546687668, 547206321, 549142436, 551135683, 551639464, 553166288, 553393232, 554376462, 554448272, 555414293, 555840093, 555937524, 557748076, 559317863, 559622619, 561590782, 561948008, 564610928, 565314628, 565491558, 566769693, 567132438, 567315745, 570856337, 571798429, 573386017, 575320829, 576485598, 580254154, 580933492, 583033231, 584086165, 586792563, 587865511, 587982082, 587982599, 589914287, 590185383, 591406970, 594117869, 594359240, 595634491, 596359004, 598339911, 599059271, 599299444, 600520103, 601288082, 603961142, 605841557, 606383449, 607296358, 608070599, 608464257, 610398780, 611363204, 611458560, 613150315, 613475282, 613717562, 614588118, 614709755, 615548425, 616252309, 617160597, 617498814, 617766200, 617952964, 618032813, 618234729, 618868953, 620505802, 621065684, 622703705, 623944547, 624238550, 624700087, 627659183, 630099513, 630917246, 631217139, 631325587, 634888295, 635138371, 635307581, 635698729, 636645849, 636773668, 641282748, 641630337, 642905187, 645571537, 646862333, 649265159, 649461484, 650517313, 651805758, 653123179, 653974590, 655977175, 658325291, 658420114, 658529953, 660504848, 661198029, 663164478, 663831318, 664122140, 664150750, 664927532, 665271575, 666500469, 667113525, 667867676, 668373312, 668895691, 672203878, 673087451, 673248019, 673849332, 673945835, 674056839, 674067769, 674924691, 674984524, 678022294, 680003701, 682729216, 683756007, 685739193, 686829757, 689326563, 692473041, 692601970, 692608857, 693062073, 695310210, 695618530, 696554636, 697163224, 698963351, 699549967, 703391343, 703654893, 706964034, 707961414, 709612227, 711280699, 711418664, 713954449, 713987245, 714995745, 715801767, 717066403, 717815114, 718000188, 725192030, 725768372, 725866220, 726815268, 727278549, 728298636, 729500252, 731045520, 731084555, 731385971, 731620805, 738910482, 742002984, 742670693, 743863093, 744281321, 746931324, 748603133, 751787947, 752088910, 753918774, 755170303, 756931246, 765366560, 765623006, 765933905, 768964947, 769116988, 771372333, 771916176, 771968629, 772323748, 774254981, 780115189, 780384064, 780932907, 780958484, 782191622, 783056401, 783182969, 785338094, 786410243, 787065720, 788189108, 788388490, 789193493, 789355914, 790149932, 793307643, 793581907, 793656885, 793918827, 794382412, 794632005, 794865270, 796853788, 796992494, 797166611, 797590472, 798127413, 799354397, 800593948, 801047742, 801941332, 803216676, 804209140, 804274346, 805635560, 807352988, 809084858, 810417244, 810907975, 811228046, 813659222, 815854572, 817082311, 818854833, 819083219, 819233781, 820316289, 823202780, 824808694, 827878652, 827970858, 828887887, 828897872, 830080909, 831082773, 834909288, 837125909, 837707279, 837937530, 838786408, 839522784, 840282963, 840436264, 840480787, 841094924, 843883471, 846315873, 849425920, 850510075, 850853505, 851877881, 852108310, 853136013, 855611706, 856296173, 856646140, 856866086, 858336638, 858980519, 861081919, 861201706, 862064831, 862102605, 862242031, 862256622, 863336935, 864360951, 865499148, 867340487, 867923801, 868604833, 869941549, 870982089, 871294422, 871818835, 872036780, 872847364, 873654163, 875003553, 875062250, 878095769, 880077456, 881391486, 882224912, 882270055, 882773344, 883103336, 883915842, 887371576, 887646347, 891394824, 891420515, 891615680, 895517729, 895781705, 898984350, 900565388]\n",
    "for ele_id in beam_elements:\n",
    "    for sec_id in section_ids:\n",
    "        # Deformation recorder\n",
    "        recorder('Element', '-file', f'damage/Rele{ele_id}_h{sec_id}_deformation.out', '-time',\n",
    "                 '-ele', ele_id, '-section', sec_id, 'deformation')\n",
    "        # Force recorder\n",
    "        recorder('Element', '-file', f'damage/Rele{ele_id}_h{sec_id}_force.out', '-time',\n",
    "                 '-ele', ele_id, '-section', sec_id, 'force')"
   ]
  },
  {
   "cell_type": "code",
   "execution_count": null,
   "id": "21c53ed5-118c-4e84-ab39-f9839fe7e58a",
   "metadata": {},
   "outputs": [],
   "source": [
    "section_ids = [1, 4]  # hinge endpoints (I-end=1, J-end=4)\n",
    "column_elements = [36716140, 38871422, 43028416, 55539257, 57959374, 59842742, 83678164, 84717748, 84827218, 95740006, 102340414, 104965128, 105534426, 106356285, 125994467, 126211383, 146999097, 149945627, 155194161, 159203080, 162696387, 162747608, 176080914, 188193575, 189439499, 192279453, 194099764, 194657028, 203006476, 230283439, 242910124, 250165661, 255085574, 278050078, 278349851, 282019976, 298147009, 299324077, 313615258, 324942459, 334743019, 336475980, 342358685, 360998218, 407457206, 412415637, 415456245, 419278320, 430210138, 444623478, 448786369, 468473507, 475217422, 480417373, 509661527, 529402973, 553036799, 555948172, 564123790, 569573467, 581093508, 582431779, 582922765, 590169374, 605022741, 632801782, 654006935, 673346765, 678945857, 684393399, 698572110, 703227936, 714881694, 724613101, 754433988, 757914059, 764224580, 789216438, 801380150, 815182287, 839473827, 850678072, 857934937, 861003552, 874963227]  # detected by vertical geometry (same x,y; different z)\n",
    "for ele_id in column_elements:\n",
    "    for sec_id in section_ids:\n",
    "        # Deformation recorder\n",
    "        recorder('Element', '-file', f'damage/ele{ele_id}_h{sec_id}_deformation.out', '-time',\n",
    "                 '-ele', ele_id, '-section', sec_id, 'deformation')\n",
    "        # Force recorder\n",
    "        recorder('Element', '-file', f'damage/ele{ele_id}_h{sec_id}_force.out', '-time',\n",
    "                 '-ele', ele_id, '-section', sec_id, 'force')\n"
   ]
  },
  {
   "cell_type": "code",
   "execution_count": null,
   "id": "ca18c39c-7f24-4e6a-b077-512feb3fdf99",
   "metadata": {},
   "outputs": [],
   "source": [
    "wipeAnalysis()\n",
    "tolerance = 1.0e-3\n",
    "constraints('Transformation')    \n",
    "numberer('RCM')                                    # Reverse Cuthill-McKee DOF numbering\n",
    "system('SparseGeneral')                            # Solver for large systems\n",
    "test('EnergyIncr', tolerance, 20 , 1)              # Convergence test: energy norm, tolerance, max iterations\n",
    "algorithm('ModifiedNewton', '-initial')            # Modified Newton-Raphson algorithm\n",
    "integrator('Newmark', 0.5, 0.25)                   # Newmark method (β=0.25, γ=0.5 for constant average)\n",
    "analysis('Transient')                              # Type of analysis: transient (time history)  "
   ]
  },
  {
   "cell_type": "code",
   "execution_count": null,
   "id": "aa0c6736-f0f4-4b16-a871-7458530a89e1",
   "metadata": {},
   "outputs": [],
   "source": [
    "# Perform a first eigenvalue analysis\n",
    "#\n",
    "numEigen = 5\n",
    "eigenValues = eigen(numEigen)\n",
    "print(\"eigen values at start of transient:\",eigenValues)\n",
    "for i, lam in enumerate(eigenValues):\n",
    "    if lam > 0:\n",
    "        freq = sqrt(lam) / (2 * pi)\n",
    "        period = 1 / freq\n",
    "        print(f\"Mode {i+1}: Frequency = {freq:.3f} Hz, Period = {period:.3f} s\")\n",
    "    else:\n",
    "        print(f\"Mode {i+1}: Invalid eigenvalue (λ = {lam})\")"
   ]
  },
  {
   "cell_type": "code",
   "execution_count": null,
   "id": "4ebe99d3-7e38-48de-a18b-abb2a4fca5ab",
   "metadata": {},
   "outputs": [],
   "source": [
    "tFinal = npts*dt\n",
    "tCurrent = getTime()\n",
    "ok = 0\n",
    "time = [tCurrent]\n",
    "uRef_x = [0.0]\n",
    "uRef_y = [0.0]\n",
    "uRef_z = [0.0]\n",
    "#\n",
    "# Perform the transient analysis\n",
    "#\n",
    "while ok == 0 and tCurrent < tFinal:    \n",
    "    ok = analyze(1 , dt)        \n",
    "    if ok != 0:\n",
    "        print(\"regular newton failed .. lets try an initail stiffness for this step\")\n",
    "        test('NormDispIncr', tolerance , 10 , 0)\n",
    "        algorithm('ModifiedNewton', '-initial')                                         # if the analysis fails try initial tangent iteration\n",
    "        ok =analyze( 1, dt)\n",
    "        if ok == 0:\n",
    "            print(\"that worked .. back to regular newton\")\n",
    "        test('NormDispIncr', tolerance,  10 )\n",
    "        algorithm('Newton')\n",
    "        \n",
    "    tCurrent = getTime()\n",
    "    print(tCurrent)\n",
    "    time.append(tCurrent)\n",
    "    uRef_x.append(nodeDisp(1384010,1))\n",
    "    uRef_y.append(nodeDisp(1384010,2))\n",
    "    uRef_z.append(nodeDisp(1384010,3))"
   ]
  },
  {
   "cell_type": "code",
   "execution_count": null,
   "id": "9c4ed998-0a36-4466-9d11-57a01a839fe8",
   "metadata": {},
   "outputs": [],
   "source": [
    "len(time)\n",
    "len(uRef_x)"
   ]
  },
  {
   "cell_type": "code",
   "execution_count": null,
   "id": "8bc06f08-785d-4d53-b9d9-cbfa68d16796",
   "metadata": {},
   "outputs": [],
   "source": [
    "plt.plot(time, uRef_x)\n",
    "plt.ylabel('Horizontal Displacement of node 19 (m)-X')\n",
    "plt.xlabel('Time (s)')\n",
    "plt.show()"
   ]
  },
  {
   "cell_type": "code",
   "execution_count": null,
   "id": "ff4b17fd-de18-4b6f-98c4-13289d3c9c46",
   "metadata": {},
   "outputs": [],
   "source": [
    "plt.plot(time, uRef_y)\n",
    "plt.ylabel('Horizontal Displacement of node 19 (m)-Y')\n",
    "plt.xlabel('Time (s)')\n",
    "plt.show()"
   ]
  },
  {
   "cell_type": "markdown",
   "id": "05f6af10-2a5e-4234-a3f8-8e9cc07ea3d8",
   "metadata": {},
   "source": [
    "# XXX XXX XXX XXX"
   ]
  },
  {
   "cell_type": "markdown",
   "id": "f2758596-fdea-4126-91a4-b0d8bbe967b3",
   "metadata": {},
   "source": [
    "# Transient recorders"
   ]
  },
  {
   "cell_type": "code",
   "execution_count": null,
   "id": "576f97bf-a75a-4543-aea0-aa83bc74e42e",
   "metadata": {},
   "outputs": [],
   "source": [
    "#\n",
    "# Displacements recorders at the Master Nodes to be applied to multisupport model\n",
    "#\n",
    "for node in masters:\n",
    "    output_file = f\"outputs/node{node}_history.out\"\n",
    "    recorder('Node', '-file', output_file, '-time', '-dT', dt, '-node', node, '-dof', 1, 2, 6, 'disp')\n",
    "#\n",
    "#for node in master_nodes:\n",
    "#    output_file = f\"outputs/Accel{node}_history.out\"\n",
    "#    recorder('Node', '-file', output_file, '-time', '-dT', dt, '-node', node, '-dof', 1, 2, 6, 'accel')\n",
    "#\n",
    "# Recorder for elastic base columns\n",
    "#\n",
    "recorder('Element', '-file', 'outputs/columns_history.out' ,'-time',  '-dT', dt , '-ele' , 1 , 2 , 3 , 4 , 'forces')"
   ]
  },
  {
   "cell_type": "markdown",
   "id": "e6000818-44ad-4e5c-8c62-d15eef0a2771",
   "metadata": {},
   "source": [
    "## Beam section recorders for nonlinear metrics at the hinges"
   ]
  },
  {
   "cell_type": "code",
   "execution_count": null,
   "id": "03b4d357-d2a1-47a6-9c0f-87aa565afcaf",
   "metadata": {},
   "outputs": [],
   "source": [
    "start_ele = 10006\n",
    "end_ele   = 10105  # inclusive\n",
    "section_ids = [1,  4]\n",
    "\n",
    "for ele_id in range(start_ele, end_ele + 1):\n",
    "    for sec_id in section_ids:\n",
    "        # Deformation recorder\n",
    "        recorder('Element', '-file', f'damage/ele{ele_id}_h{sec_id}_deformation.out', '-time',\n",
    "                 '-ele', ele_id, '-section', sec_id, 'deformation')\n",
    "        # Force recorder\n",
    "        recorder('Element', '-file', f'damage/ele{ele_id}_h{sec_id}_force.out', '-time',\n",
    "                 '-ele', ele_id, '-section', sec_id, 'force')"
   ]
  },
  {
   "cell_type": "markdown",
   "id": "2f71cc11-703f-4431-8eb0-6bbf50f7ca2d",
   "metadata": {},
   "source": [
    "# Analysis Object"
   ]
  },
  {
   "cell_type": "markdown",
   "id": "fe299954-0414-40a2-8963-9c6539be95f4",
   "metadata": {},
   "source": [
    "## Plotting"
   ]
  },
  {
   "cell_type": "code",
   "execution_count": null,
   "id": "2b3a333f-2f4b-4fe0-b9fc-28644aada146",
   "metadata": {},
   "outputs": [],
   "source": [
    "plt.plot(time, u510_z)\n",
    "plt.ylabel('Horizontal Displacement of node 19 (m)-Z')\n",
    "plt.xlabel('Time (s)')\n",
    "plt.show()"
   ]
  },
  {
   "cell_type": "code",
   "execution_count": null,
   "id": "5163f1bc-6d0c-4ab7-a372-641cef240058",
   "metadata": {},
   "outputs": [],
   "source": []
  }
 ],
 "metadata": {
  "kernelspec": {
   "display_name": "Python (opensees_env)",
   "language": "python",
   "name": "opensees_env"
  },
  "language_info": {
   "codemirror_mode": {
    "name": "ipython",
    "version": 3
   },
   "file_extension": ".py",
   "mimetype": "text/x-python",
   "name": "python",
   "nbconvert_exporter": "python",
   "pygments_lexer": "ipython3",
   "version": "3.8.20"
  }
 },
 "nbformat": 4,
 "nbformat_minor": 5
}
