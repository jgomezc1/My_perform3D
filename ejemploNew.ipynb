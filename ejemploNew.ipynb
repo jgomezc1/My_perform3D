{
 "cells": [
  {
   "cell_type": "markdown",
   "id": "b584249e-e1fb-46a0-a257-0e9c62d9c67e",
   "metadata": {},
   "source": [
    "# N-story L-shaped RC frame\n",
    "## Nonlinear time history analysis\n",
    "* Rigid diaphragm assumptions\n",
    "* Concentrated plasticity in the hinges using Aggregator+HingeEndpoint\n",
    "* Different hinges for X and Y directions"
   ]
  },
  {
   "cell_type": "code",
   "execution_count": 1,
   "id": "c460257d-dda0-4bd8-8ac8-1cf025df4b9a",
   "metadata": {},
   "outputs": [
    {
     "data": {
      "text/plain": [
       "WindowsPath('C:/Users/jgomez/Desktop/opensees/MY_PERFORM_3D/out/explicit_model.py')"
      ]
     },
     "execution_count": 1,
     "metadata": {},
     "output_type": "execute_result"
    }
   ],
   "source": [
    "import importlib.util, sys, pathlib\n",
    "\n",
    "repo_root = pathlib.Path().resolve()  # run the notebook from repo root\n",
    "explicit_path = (repo_root / \"out\" / \"explicit_model.py\").resolve()\n",
    "explicit_path"
   ]
  },
  {
   "cell_type": "code",
   "execution_count": 2,
   "id": "4ab948e0-86ab-4a83-84b8-3c66bdac2c64",
   "metadata": {},
   "outputs": [
    {
     "data": {
      "text/plain": [
       "<module 'explicit_model_generated' from 'C:\\\\Users\\\\jgomez\\\\Desktop\\\\opensees\\\\MY_PERFORM_3D\\\\out\\\\explicit_model.py'>"
      ]
     },
     "execution_count": 2,
     "metadata": {},
     "output_type": "execute_result"
    }
   ],
   "source": [
    "# Cell 2 — dynamic import helper\n",
    "def import_explicit(path: pathlib.Path):\n",
    "    name = \"explicit_model_generated\"  # avoid clobbering other modules\n",
    "    spec = importlib.util.spec_from_file_location(name, str(path))\n",
    "    if spec is None or spec.loader is None:\n",
    "        raise ImportError(f\"Cannot load module from {path}\")\n",
    "    mod = importlib.util.module_from_spec(spec)\n",
    "    sys.modules[name] = mod\n",
    "    spec.loader.exec_module(mod)\n",
    "    return mod\n",
    "\n",
    "exp = import_explicit(explicit_path)\n",
    "exp  # you should see a module object with build_model()\n"
   ]
  },
  {
   "cell_type": "code",
   "execution_count": 3,
   "id": "e95e7b54-cbe0-4bba-b691-0eab704941a2",
   "metadata": {},
   "outputs": [
    {
     "name": "stdout",
     "output_type": "stream",
     "text": [
      "[explicit] Model built successfully.\n",
      "nodes: 718\n",
      "elements: 861\n"
     ]
    }
   ],
   "source": [
    "# Cell 3 — build domain\n",
    "from openseespy.opensees import *\n",
    "\n",
    "wipe()\n",
    "exp.build_model()  # creates nodes, supports, rigid diaphragms, transforms, elements\n",
    "\n",
    "print(\"nodes:\", len(getNodeTags() or []))\n",
    "print(\"elements:\", len(getEleTags() or []))"
   ]
  },
  {
   "cell_type": "code",
   "execution_count": 4,
   "id": "781e8b8b-a9de-47f4-b7b5-7d62753a5968",
   "metadata": {},
   "outputs": [
    {
     "data": {
      "text/plain": [
       "(1384010, (60.990652017543844, 20.960964912280705, 14.775000000000002))"
      ]
     },
     "execution_count": 4,
     "metadata": {},
     "output_type": "execute_result"
    }
   ],
   "source": [
    "# Cell 4 — read artifacts to find a diaphragm master (top by default)\n",
    "import json\n",
    "\n",
    "with open(repo_root / \"out\" / \"diaphragms.json\", \"r\", encoding=\"utf-8\") as f:\n",
    "    djs = json.load(f)\n",
    "\n",
    "with open(repo_root / \"out\" / \"nodes.json\", \"r\", encoding=\"utf-8\") as f:\n",
    "    njs = json.load(f)\n",
    "\n",
    "nodes = {int(n[\"tag\"]): (float(n[\"x\"]), float(n[\"y\"]), float(n[\"z\"])) for n in njs[\"nodes\"]}\n",
    "def pick_top_master(diaphragms):\n",
    "    # pick the one with highest Z\n",
    "    pairs = []\n",
    "    for rec in diaphragms:\n",
    "        m = int(rec[\"master\"])\n",
    "        if m in nodes:\n",
    "            pairs.append((nodes[m][2], m))  # (z, master_tag)\n",
    "    pairs.sort(reverse=True)\n",
    "    return pairs[0][1] if pairs else None\n",
    "\n",
    "master = pick_top_master(djs[\"diaphragms\"])\n",
    "master, nodes.get(master)"
   ]
  },
  {
   "cell_type": "code",
   "execution_count": 5,
   "id": "6bb13fe9-26a9-47e3-92cd-4c65cba91965",
   "metadata": {},
   "outputs": [
    {
     "name": "stdout",
     "output_type": "stream",
     "text": [
      "Masters (raw order): [1384010, 1384011, 1384012, 1384013, 1384014, 1384015, 1384016, 1384017, 1384018]\n",
      "Masters (top→bottom by Z): [1384010, 1384011, 1384012, 1384013, 1384014, 1384015, 1384016, 1384017, 1384018]\n",
      "Story map (master_tag → story): {1384010: '11_P6', 1384011: '08_P5', 1384012: '07_P5_m155', 1384013: '04_P4', 1384014: '05_P4_m155', 1384015: '04_P3', 1384016: '03_P3_m170', 1384017: '02_P2', 1384018: '01_P2_m170'}\n"
     ]
    },
    {
     "data": {
      "text/plain": [
       "[1384010,\n",
       " 1384011,\n",
       " 1384012,\n",
       " 1384013,\n",
       " 1384014,\n",
       " 1384015,\n",
       " 1384016,\n",
       " 1384017,\n",
       " 1384018]"
      ]
     },
     "execution_count": 5,
     "metadata": {},
     "output_type": "execute_result"
    }
   ],
   "source": [
    "# Cell — get diaphragm master node tags\n",
    "import json, pathlib\n",
    "\n",
    "ART_DIR = pathlib.Path(\"out\")  # change if your artifacts live elsewhere\n",
    "dpath = ART_DIR / \"diaphragms.json\"\n",
    "npath = ART_DIR / \"nodes.json\"\n",
    "\n",
    "# Load artifacts\n",
    "with dpath.open(\"r\", encoding=\"utf-8\") as f:\n",
    "    dj = json.load(f)\n",
    "with npath.open(\"r\", encoding=\"utf-8\") as f:\n",
    "    nj = json.load(f)\n",
    "\n",
    "# Map node tag -> z for sorting (and keep x,y if you want)\n",
    "_nodes = {int(n[\"tag\"]): (float(n[\"x\"]), float(n[\"y\"]), float(n[\"z\"])) for n in nj.get(\"nodes\", [])}\n",
    "\n",
    "# Collect masters (dedup just in case)\n",
    "masters_raw = []\n",
    "story_by_master = {}\n",
    "for rec in dj.get(\"diaphragms\", []):\n",
    "    m = int(rec[\"master\"])\n",
    "    masters_raw.append(m)\n",
    "    story_by_master[m] = rec.get(\"story\")\n",
    "\n",
    "masters = sorted(set(masters_raw))  # unique, numeric sort (not elevation)\n",
    "# Elevation sort (top→bottom by z); keep only masters that exist in nodes.json\n",
    "masters_top_to_bottom = [m for m, _z in sorted(\n",
    "    ((m, _nodes[m][2]) for m in masters if m in _nodes),\n",
    "    key=lambda t: t[1],\n",
    "    reverse=True\n",
    ")]\n",
    "\n",
    "print(\"Masters (raw order):\", masters)\n",
    "print(\"Masters (top→bottom by Z):\", masters_top_to_bottom)\n",
    "print(\"Story map (master_tag → story):\", {m: story_by_master.get(m) for m in masters})\n",
    "\n",
    "# If you just want the list for further use, this is the variable to use:\n",
    "master_tags = masters_top_to_bottom  # or use `masters` if you don't care about elevation"
   ]
  },
  {
   "cell_type": "markdown",
   "id": "9e019910-1235-45b7-9231-2f1cc628ca44",
   "metadata": {},
   "source": [
    "# Here is where the party begins"
   ]
  },
  {
   "cell_type": "code",
   "execution_count": null,
   "id": "2059752f-6bbc-4575-a155-a4d4d2c204ff",
   "metadata": {},
   "outputs": [],
   "source": [
    "master_nodes = [501, 502, 503, 504, 505, 506,\n",
    "                507, 508, 509, 510]\n",
    "g   = 9.8\n",
    "M   = 24000.0 # Kg Mass for rigid diaphragm assumption\n",
    "M_r = 250000.0\n",
    "#\n",
    "# ----------------------------------------------------\n",
    "# Mass at the master joints\n",
    "# ----------------------------------------------------\n",
    "#\n",
    "for node in master_nodes:\n",
    "    mass(node, M, M, 0.0, 0.0, 0.0, M_r)\n",
    "\n",
    "loadConst('-time', 0.0)                        # Set the gravity loads to be constant & reset the time in the domain\n",
    "\n",
    "dt , npts = sig.morsa_to_opensees(\"GEN_acc_RotD100RotDarfie2010Wakc_Y.txt\", \n",
    "                  \"DarfieldY.dat\", \n",
    "                  scale_factor=g, \n",
    "                  plot=True)\n",
    "dt , npts = sig.morsa_to_opensees(\"GEN_acc_RotD100RotDarfie2010Wakc_X.txt\", \n",
    "                  \"DarfieldX.dat\", \n",
    "                  scale_factor=g, \n",
    "                  plot=False)\n",
    "\n",
    "print(dt, npts)\n",
    "\n",
    "\n",
    "timeSeries('Path', 2,  '-filePath', 'DarfieldX.dat', '-dt', 0.02, '-factor', 1.0)  # Set time series to be passed to uniform excitation\n",
    "timeSeries('Path', 3,  '-filePath', 'DarfieldY.dat', '-dt', 0.02, '-factor', 1.0)\n",
    "#                            tag , dir ,....,tseriesTag \n",
    "pattern('UniformExcitation',  2  , 1, '-accel', 2)                      # Create UniformExcitation load pattern along UX\n",
    "pattern('UniformExcitation',  3  , 2, '-accel', 3)                      # Create UniformExcitation load pattern along UY\n",
    "#rayleigh(0.0, 0.0, 0.0, 0.000625)                                       # set the rayleigh damping factors for nodes & elements\n",
    "rayleigh(0.1416, 0.0, 0.0, 0.00281)"
   ]
  },
  {
   "cell_type": "code",
   "execution_count": null,
   "id": "ca18c39c-7f24-4e6a-b077-512feb3fdf99",
   "metadata": {},
   "outputs": [],
   "source": [
    "wipeAnalysis()\n",
    "tolerance = 1.0e-3\n",
    "constraints('Transformation')    \n",
    "numberer('RCM')                                    # Reverse Cuthill-McKee DOF numbering\n",
    "system('SparseGeneral')                            # Solver for large systems\n",
    "test('EnergyIncr', tolerance, 20 , 1)              # Convergence test: energy norm, tolerance, max iterations\n",
    "algorithm('ModifiedNewton', '-initial')            # Modified Newton-Raphson algorithm\n",
    "integrator('Newmark', 0.5, 0.25)                   # Newmark method (β=0.25, γ=0.5 for constant average)\n",
    "analysis('Transient')                              # Type of analysis: transient (time history)  "
   ]
  },
  {
   "cell_type": "code",
   "execution_count": null,
   "id": "aa0c6736-f0f4-4b16-a871-7458530a89e1",
   "metadata": {},
   "outputs": [],
   "source": [
    "# Perform a first eigenvalue analysis\n",
    "#\n",
    "numEigen = 5\n",
    "eigenValues = eigen(numEigen)\n",
    "print(\"eigen values at start of transient:\",eigenValues)\n",
    "for i, lam in enumerate(eigenValues):\n",
    "    if lam > 0:\n",
    "        freq = sqrt(lam) / (2 * pi)\n",
    "        period = 1 / freq\n",
    "        print(f\"Mode {i+1}: Frequency = {freq:.3f} Hz, Period = {period:.3f} s\")\n",
    "    else:\n",
    "        print(f\"Mode {i+1}: Invalid eigenvalue (λ = {lam})\")"
   ]
  },
  {
   "cell_type": "code",
   "execution_count": null,
   "id": "4ebe99d3-7e38-48de-a18b-abb2a4fca5ab",
   "metadata": {},
   "outputs": [],
   "source": [
    "tFinal = npts*dt\n",
    "tCurrent = getTime()\n",
    "#print(\"Final Time =\" , tFinal)\n",
    "ok = 0\n",
    "time = [tCurrent]\n",
    "u510_x = [0.0]\n",
    "u510_y = [0.0]\n",
    "u510_z = [0.0]\n",
    "#\n",
    "# Perform the transient analysis\n",
    "#\n",
    "while ok == 0 and tCurrent < tFinal:    \n",
    "    ok = analyze(1 , dt)        \n",
    "    if ok != 0:\n",
    "        print(\"regular newton failed .. lets try an initail stiffness for this step\")\n",
    "        test('NormDispIncr', tolerance , 100 , 0)\n",
    "        algorithm('ModifiedNewton', '-initial')                                         # if the analysis fails try initial tangent iteration\n",
    "        ok =analyze( 1, dt)\n",
    "        if ok == 0:\n",
    "            print(\"that worked .. back to regular newton\")\n",
    "        test('NormDispIncr', tolerance,  10 )\n",
    "        algorithm('Newton')\n",
    "        \n",
    "    tCurrent = getTime()\n",
    "    time.append(tCurrent)\n",
    "#    print(\"Current time=\", tCurrent)\n",
    "    u510_x.append(nodeDisp(510,1))\n",
    "    u510_y.append(nodeDisp(510,2))\n",
    "    u510_z.append(nodeDisp(510,3))"
   ]
  },
  {
   "cell_type": "markdown",
   "id": "05f6af10-2a5e-4234-a3f8-8e9cc07ea3d8",
   "metadata": {},
   "source": [
    "# XXX XXX XXX XXX"
   ]
  },
  {
   "cell_type": "markdown",
   "id": "f2758596-fdea-4126-91a4-b0d8bbe967b3",
   "metadata": {},
   "source": [
    "# Transient recorders"
   ]
  },
  {
   "cell_type": "code",
   "execution_count": null,
   "id": "576f97bf-a75a-4543-aea0-aa83bc74e42e",
   "metadata": {},
   "outputs": [],
   "source": [
    "#\n",
    "# Displacements recorders at the Master Nodes to be applied to multisupport model\n",
    "#\n",
    "for node in master_nodes:\n",
    "    output_file = f\"outputs/node{node}_history.out\"\n",
    "    recorder('Node', '-file', output_file, '-time', '-dT', dt, '-node', node, '-dof', 1, 2, 6, 'disp')\n",
    "#\n",
    "#for node in master_nodes:\n",
    "#    output_file = f\"outputs/Accel{node}_history.out\"\n",
    "#    recorder('Node', '-file', output_file, '-time', '-dT', dt, '-node', node, '-dof', 1, 2, 6, 'accel')\n",
    "#\n",
    "# Recorder for elastic base columns\n",
    "#\n",
    "recorder('Element', '-file', 'outputs/columns_history.out' ,'-time',  '-dT', dt , '-ele' , 1 , 2 , 3 , 4 , 'forces')"
   ]
  },
  {
   "cell_type": "markdown",
   "id": "e6000818-44ad-4e5c-8c62-d15eef0a2771",
   "metadata": {},
   "source": [
    "## Beam section recorders for nonlinear metrics at the hinges"
   ]
  },
  {
   "cell_type": "code",
   "execution_count": null,
   "id": "03b4d357-d2a1-47a6-9c0f-87aa565afcaf",
   "metadata": {},
   "outputs": [],
   "source": [
    "start_ele = 10006\n",
    "end_ele   = 10105  # inclusive\n",
    "section_ids = [1,  4]\n",
    "\n",
    "for ele_id in range(start_ele, end_ele + 1):\n",
    "    for sec_id in section_ids:\n",
    "        # Deformation recorder\n",
    "        recorder('Element', '-file', f'damage/ele{ele_id}_h{sec_id}_deformation.out', '-time',\n",
    "                 '-ele', ele_id, '-section', sec_id, 'deformation')\n",
    "        # Force recorder\n",
    "        recorder('Element', '-file', f'damage/ele{ele_id}_h{sec_id}_force.out', '-time',\n",
    "                 '-ele', ele_id, '-section', sec_id, 'force')"
   ]
  },
  {
   "cell_type": "markdown",
   "id": "2f71cc11-703f-4431-8eb0-6bbf50f7ca2d",
   "metadata": {},
   "source": [
    "# Analysis Object"
   ]
  },
  {
   "cell_type": "markdown",
   "id": "fe299954-0414-40a2-8963-9c6539be95f4",
   "metadata": {},
   "source": [
    "## Plotting"
   ]
  },
  {
   "cell_type": "code",
   "execution_count": null,
   "id": "9c4ed998-0a36-4466-9d11-57a01a839fe8",
   "metadata": {},
   "outputs": [],
   "source": [
    "len(time)"
   ]
  },
  {
   "cell_type": "code",
   "execution_count": null,
   "id": "1f41cd84-c1b7-41b2-ae62-f63c07620ec6",
   "metadata": {},
   "outputs": [],
   "source": [
    "len(u510_x)"
   ]
  },
  {
   "cell_type": "code",
   "execution_count": null,
   "id": "8bc06f08-785d-4d53-b9d9-cbfa68d16796",
   "metadata": {},
   "outputs": [],
   "source": [
    "plt.plot(time, u510_x)\n",
    "plt.ylabel('Horizontal Displacement of node 19 (m)-X')\n",
    "plt.xlabel('Time (s)')\n",
    "plt.show()"
   ]
  },
  {
   "cell_type": "code",
   "execution_count": null,
   "id": "ff4b17fd-de18-4b6f-98c4-13289d3c9c46",
   "metadata": {},
   "outputs": [],
   "source": [
    "plt.plot(time, u510_y)\n",
    "plt.ylabel('Horizontal Displacement of node 19 (m)-Y')\n",
    "plt.xlabel('Time (s)')\n",
    "plt.show()"
   ]
  },
  {
   "cell_type": "code",
   "execution_count": null,
   "id": "2b3a333f-2f4b-4fe0-b9fc-28644aada146",
   "metadata": {},
   "outputs": [],
   "source": [
    "plt.plot(time, u510_z)\n",
    "plt.ylabel('Horizontal Displacement of node 19 (m)-Z')\n",
    "plt.xlabel('Time (s)')\n",
    "plt.show()"
   ]
  },
  {
   "cell_type": "code",
   "execution_count": null,
   "id": "5163f1bc-6d0c-4ab7-a372-641cef240058",
   "metadata": {},
   "outputs": [],
   "source": []
  }
 ],
 "metadata": {
  "kernelspec": {
   "display_name": "Python (opensees_env)",
   "language": "python",
   "name": "opensees_env"
  },
  "language_info": {
   "codemirror_mode": {
    "name": "ipython",
    "version": 3
   },
   "file_extension": ".py",
   "mimetype": "text/x-python",
   "name": "python",
   "nbconvert_exporter": "python",
   "pygments_lexer": "ipython3",
   "version": "3.8.20"
  }
 },
 "nbformat": 4,
 "nbformat_minor": 5
}
